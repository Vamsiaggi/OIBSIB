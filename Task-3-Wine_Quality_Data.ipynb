{
  "nbformat": 4,
  "nbformat_minor": 0,
  "metadata": {
    "colab": {
      "provenance": []
    },
    "kernelspec": {
      "name": "python3",
      "display_name": "Python 3"
    },
    "language_info": {
      "name": "python"
    }
  },
  "cells": [
    {
      "cell_type": "code",
      "source": [
        "import pandas as pd\n",
        "\n",
        "data = [\n",
        "    [10.0, 0.31, 0.47, 2.6, 0.085, 14.0, 33.0, 0.9996, 53.36, 0.699, 12.26, 9.26],\n",
        "    [10.0, 0.49, 0.21, 1.0, 0.071, 13.0, 50.0, 1.0015, 53.16, 0.699, 10.26, 5.56],\n",
        "    [10.0, 0.49, 0.21, 1.0, 0.071, 13.0, 50.0, 1.0015, 53.16, 0.699, 10.26, 5.56],\n",
        "    [10.0, 0.59, 0.31, 2.2, 0.092, 26.0, 62.0, 0.9994, 43.18, 0.631, 10.26, 5.10],\n",
        "    [10.0, 0.48, 0.24, 2.7, 0.102, 21.0, 32.0, 1.0033, 28.0, 0.561, 10.06, 5.34],\n",
        "    # ... (more data)\n",
        "]\n",
        "\n",
        "column_names = [\n",
        "    \"fixed acidity\",\n",
        "    \"volatile acidity\",\n",
        "    \"citric acid\",\n",
        "    \"residual sugar\",\n",
        "    \"chlorides\",\n",
        "    \"free sulfur dioxide\",\n",
        "    \"total sulfur dioxide\",\n",
        "    \"density\",\n",
        "    \"pH\",\n",
        "    \"sulphates\",\n",
        "    \"alcohol\",\n",
        "    \"quality\"\n",
        "]\n",
        "\n",
        "# Create a DataFrame\n",
        "df = pd.DataFrame(data, columns=column_names)\n",
        "def display_df_paginated(df, rows_per_page):\n",
        "    # Set the option to display the specified number of rows per page\n",
        "    pd.set_option('display.max_rows', rows_per_page)\n",
        "    print(df)\n",
        "display_df_paginated(df, 10)\n",
        "display_df_paginated(df, 25)\n",
        "display_df_paginated(df, 50)\n",
        "display_df_paginated(df, 100)\n",
        "\n"
      ],
      "metadata": {
        "colab": {
          "base_uri": "https://localhost:8080/"
        },
        "id": "_OEpfO9lPNfb",
        "outputId": "69322257-5ecb-47be-bce7-ec4bffaff1cc"
      },
      "execution_count": null,
      "outputs": [
        {
          "output_type": "stream",
          "name": "stdout",
          "text": [
            "   fixed acidity  volatile acidity  citric acid  residual sugar  chlorides  \\\n",
            "0           10.0              0.31         0.47             2.6      0.085   \n",
            "1           10.0              0.49         0.21             1.0      0.071   \n",
            "2           10.0              0.49         0.21             1.0      0.071   \n",
            "3           10.0              0.59         0.31             2.2      0.092   \n",
            "4           10.0              0.48         0.24             2.7      0.102   \n",
            "\n",
            "   free sulfur dioxide  total sulfur dioxide  density     pH  sulphates  \\\n",
            "0                 14.0                  33.0   0.9996  53.36      0.699   \n",
            "1                 13.0                  50.0   1.0015  53.16      0.699   \n",
            "2                 13.0                  50.0   1.0015  53.16      0.699   \n",
            "3                 26.0                  62.0   0.9994  43.18      0.631   \n",
            "4                 21.0                  32.0   1.0033  28.00      0.561   \n",
            "\n",
            "   alcohol  quality  \n",
            "0    12.26     9.26  \n",
            "1    10.26     5.56  \n",
            "2    10.26     5.56  \n",
            "3    10.26     5.10  \n",
            "4    10.06     5.34  \n",
            "   fixed acidity  volatile acidity  citric acid  residual sugar  chlorides  \\\n",
            "0           10.0              0.31         0.47             2.6      0.085   \n",
            "1           10.0              0.49         0.21             1.0      0.071   \n",
            "2           10.0              0.49         0.21             1.0      0.071   \n",
            "3           10.0              0.59         0.31             2.2      0.092   \n",
            "4           10.0              0.48         0.24             2.7      0.102   \n",
            "\n",
            "   free sulfur dioxide  total sulfur dioxide  density     pH  sulphates  \\\n",
            "0                 14.0                  33.0   0.9996  53.36      0.699   \n",
            "1                 13.0                  50.0   1.0015  53.16      0.699   \n",
            "2                 13.0                  50.0   1.0015  53.16      0.699   \n",
            "3                 26.0                  62.0   0.9994  43.18      0.631   \n",
            "4                 21.0                  32.0   1.0033  28.00      0.561   \n",
            "\n",
            "   alcohol  quality  \n",
            "0    12.26     9.26  \n",
            "1    10.26     5.56  \n",
            "2    10.26     5.56  \n",
            "3    10.26     5.10  \n",
            "4    10.06     5.34  \n",
            "   fixed acidity  volatile acidity  citric acid  residual sugar  chlorides  \\\n",
            "0           10.0              0.31         0.47             2.6      0.085   \n",
            "1           10.0              0.49         0.21             1.0      0.071   \n",
            "2           10.0              0.49         0.21             1.0      0.071   \n",
            "3           10.0              0.59         0.31             2.2      0.092   \n",
            "4           10.0              0.48         0.24             2.7      0.102   \n",
            "\n",
            "   free sulfur dioxide  total sulfur dioxide  density     pH  sulphates  \\\n",
            "0                 14.0                  33.0   0.9996  53.36      0.699   \n",
            "1                 13.0                  50.0   1.0015  53.16      0.699   \n",
            "2                 13.0                  50.0   1.0015  53.16      0.699   \n",
            "3                 26.0                  62.0   0.9994  43.18      0.631   \n",
            "4                 21.0                  32.0   1.0033  28.00      0.561   \n",
            "\n",
            "   alcohol  quality  \n",
            "0    12.26     9.26  \n",
            "1    10.26     5.56  \n",
            "2    10.26     5.56  \n",
            "3    10.26     5.10  \n",
            "4    10.06     5.34  \n",
            "   fixed acidity  volatile acidity  citric acid  residual sugar  chlorides  \\\n",
            "0           10.0              0.31         0.47             2.6      0.085   \n",
            "1           10.0              0.49         0.21             1.0      0.071   \n",
            "2           10.0              0.49         0.21             1.0      0.071   \n",
            "3           10.0              0.59         0.31             2.2      0.092   \n",
            "4           10.0              0.48         0.24             2.7      0.102   \n",
            "\n",
            "   free sulfur dioxide  total sulfur dioxide  density     pH  sulphates  \\\n",
            "0                 14.0                  33.0   0.9996  53.36      0.699   \n",
            "1                 13.0                  50.0   1.0015  53.16      0.699   \n",
            "2                 13.0                  50.0   1.0015  53.16      0.699   \n",
            "3                 26.0                  62.0   0.9994  43.18      0.631   \n",
            "4                 21.0                  32.0   1.0033  28.00      0.561   \n",
            "\n",
            "   alcohol  quality  \n",
            "0    12.26     9.26  \n",
            "1    10.26     5.56  \n",
            "2    10.26     5.56  \n",
            "3    10.26     5.10  \n",
            "4    10.06     5.34  \n"
          ]
        }
      ]
    },
    {
      "cell_type": "code",
      "source": [
        "import matplotlib.pyplot as plt\n",
        "import seaborn as sns\n",
        "\n",
        "# Descriptive statistics\n",
        "print(df.describe())\n",
        "\n",
        "# Visualize distributions (histograms, boxplots)\n",
        "sns.histplot(data=df, x=\"fixed acidity\")\n",
        "plt.show()\n",
        "\n",
        "# Explore relationships (scatter plots)\n",
        "sns.scatterplot(data=df, x=\"volatile acidity\", y=\"residual sugar\")\n",
        "plt.show()\n",
        "\n",
        "# Check for outliers (e.g., using IQR)\n",
        "# ...\n"
      ],
      "metadata": {
        "id": "9xqeCQovTjCk",
        "colab": {
          "base_uri": "https://localhost:8080/",
          "height": 1000
        },
        "outputId": "2e23cb3d-6a35-4823-baf4-377acdae9af4"
      },
      "execution_count": null,
      "outputs": [
        {
          "output_type": "stream",
          "name": "stdout",
          "text": [
            "       fixed acidity  volatile acidity  citric acid  residual sugar  \\\n",
            "count            5.0          5.000000     5.000000        5.000000   \n",
            "mean            10.0          0.472000     0.288000        1.900000   \n",
            "std              0.0          0.101094     0.109636        0.842615   \n",
            "min             10.0          0.310000     0.210000        1.000000   \n",
            "25%             10.0          0.480000     0.210000        1.000000   \n",
            "50%             10.0          0.490000     0.240000        2.200000   \n",
            "75%             10.0          0.490000     0.310000        2.600000   \n",
            "max             10.0          0.590000     0.470000        2.700000   \n",
            "\n",
            "       chlorides  free sulfur dioxide  total sulfur dioxide   density  \\\n",
            "count    5.00000              5.00000               5.00000  5.000000   \n",
            "mean     0.08420             17.40000              45.40000  1.001060   \n",
            "std      0.01348              5.85662              12.75931  0.001604   \n",
            "min      0.07100             13.00000              32.00000  0.999400   \n",
            "25%      0.07100             13.00000              33.00000  0.999600   \n",
            "50%      0.08500             14.00000              50.00000  1.001500   \n",
            "75%      0.09200             21.00000              50.00000  1.001500   \n",
            "max      0.10200             26.00000              62.00000  1.003300   \n",
            "\n",
            "              pH  sulphates    alcohol   quality  \n",
            "count   5.000000   5.000000   5.000000  5.000000  \n",
            "mean   46.172000   0.657800  10.620000  6.164000  \n",
            "std    11.051078   0.061605   0.920869  1.741115  \n",
            "min    28.000000   0.561000  10.060000  5.100000  \n",
            "25%    43.180000   0.631000  10.260000  5.340000  \n",
            "50%    53.160000   0.699000  10.260000  5.560000  \n",
            "75%    53.160000   0.699000  10.260000  5.560000  \n",
            "max    53.360000   0.699000  12.260000  9.260000  \n"
          ]
        },
        {
          "output_type": "display_data",
          "data": {
            "text/plain": [
              "<Figure size 640x480 with 1 Axes>"
            ],
            "image/png": "[encoded data removed]"
          },
          "metadata": {}
        },
        {
          "output_type": "display_data",
          "data": {
            "text/plain": [
              "<Figure size 640x480 with 1 Axes>"
            ],
            "image/png": "[encoded data removed]"
          },
          "metadata": {}
        }
      ]
    }
  ]
}